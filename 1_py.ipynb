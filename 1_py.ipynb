{
  "nbformat": 4,
  "nbformat_minor": 0,
  "metadata": {
    "colab": {
      "name": "1.py",
      "provenance": [],
      "collapsed_sections": [],
      "authorship_tag": "ABX9TyMMxD4iMAapij7SFfGAQzSu",
      "include_colab_link": true
    },
    "kernelspec": {
      "name": "python3",
      "display_name": "Python 3"
    }
  },
  "cells": [
    {
      "cell_type": "markdown",
      "metadata": {
        "id": "view-in-github",
        "colab_type": "text"
      },
      "source": [
        "<a href=\"https://colab.research.google.com/github/pranjalirastogi/image-search-engine/blob/master/1_py.ipynb\" target=\"_parent\"><img src=\"https://colab.research.google.com/assets/colab-badge.svg\" alt=\"Open In Colab\"/></a>"
      ]
    },
    {
      "cell_type": "code",
      "metadata": {
        "colab_type": "code",
        "id": "nnD6K57zCHJB",
        "colab": {}
      },
      "source": [
        "import numpy as np\n",
        "import cv2\n",
        "import imutils\n",
        "\n",
        "class colordescriptor:\n",
        "  def _init_(self,bins):\n",
        "    self.bins = bins\n",
        "\n",
        "  def describe(self, image):\n",
        "    image = cv2.cvtColor(image, cv2.BGR2HSV)\n",
        "    features = []\n",
        "\n",
        "    (h,w) = image.shape[:2]\n",
        "    (cX,cY) = (int(w*0.5),int(h*0.5))\n",
        "    \n",
        "    segments = [(0, cX, 0, cY), (cX, w, 0, cY), (cX, w, cY, h),\n",
        "\t\t\t(0, cX, cY, h)]\n",
        "    (axesX, axesY) = (int(w*0.75)//2, int(h*0.75)//2)\n",
        "    ellipMask = np.zeros(image.shape[:2], dtype = \"uint8\")\n",
        "    cv2.ellipse(ellipMask, (cX,cY), (axesX, axesY), 0, 0, 360, 255, -1)\n",
        "\n",
        "    for (startX, endX, startY, endY) in segments:\n",
        "      cornerMask = np.zeros(image.shape[:2], dtype = \"uint8\")\n",
        "      cv2.rectangle(cornerMask, (startX, startY), (endX, endY), 255, -1)\n",
        "      cornerMask = cv2.subtract(cornerMask, ellipMask)\n",
        "\n",
        "      hist = self.histogram(image, cornerMask)\n",
        "      features.extend(hist)\n",
        "\n",
        "      hist = self.histogram(image, ellipMask)\n",
        "      features.extend(hist)\n",
        "\n",
        "      return features\n",
        "\n",
        "      def histogram(self, image, mask):\n",
        "        hist = cv2.CalcHist([image], [0, 1, 2], mask, self.bins, [0, 180, 0, 256, 0, 256] )\n",
        "\n",
        "        #normalisation of histogram for different opencv versions\n",
        "        if imutils.is_cv2():\n",
        "          hist = cv2.normalize(hist).flatten()\n",
        "\n",
        "        else:\n",
        "          hist = cv2.normalize(hist, hist).flatten()\n",
        "\n",
        "        return hist \n",
        "\n"
      ],
      "execution_count": 0,
      "outputs": []
    }
  ]
}